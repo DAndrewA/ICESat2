{
 "cells": [
  {
   "attachments": {},
   "cell_type": "markdown",
   "metadata": {},
   "source": [
    "# Test get mpl.\n",
    "\n",
    "This notebook will concern itself with going through the whole preocess to copy, extract and convert the mpl files for a given day to a target location"
   ]
  },
  {
   "cell_type": "code",
   "execution_count": 9,
   "metadata": {},
   "outputs": [],
   "source": [
    "# initial imports\n",
    "import xarray as xr\n",
    "import numpy as np\n",
    "import datetime as dt\n",
    "\n",
    "from move_mplraw import move_mplraw\n",
    "from extract_from_mplgz import extract_from_mplgz\n",
    "from extract_mpl2nc import extract_mpl2nc\n",
    "\n",
    "from get_mpl_from_archive import get_mpl_from_archive"
   ]
  },
  {
   "cell_type": "code",
   "execution_count": 2,
   "metadata": {},
   "outputs": [],
   "source": [
    "# setup for where the files will go and which timeframe to take\n",
    "start = dt.datetime(2021,2,11,0,0)\n",
    "end = dt.datetime(2021,2,11,23,59)\n",
    "\n",
    "target = '/home/users/eeasm/_scripts/ICESat2/src/mpl'"
   ]
  },
  {
   "cell_type": "code",
   "execution_count": 6,
   "metadata": {},
   "outputs": [
    {
     "name": "stdout",
     "output_type": "stream",
     "text": [
      "         move_mplraw: 333333333333333333333333\n"
     ]
    }
   ],
   "source": [
    "# First step: move the raw .mpl.gz files\n",
    "move_mplraw(target, date_range=[start, end])"
   ]
  },
  {
   "cell_type": "code",
   "execution_count": 7,
   "metadata": {},
   "outputs": [
    {
     "name": "stdout",
     "output_type": "stream",
     "text": [
      "  extract_from_mplgz: 000000000000000000000000\n"
     ]
    }
   ],
   "source": [
    "# Second step: extract the .mpl.gz files to .mpl files\n",
    "extract_from_mplgz(target)"
   ]
  },
  {
   "cell_type": "code",
   "execution_count": 8,
   "metadata": {},
   "outputs": [
    {
     "name": "stdout",
     "output_type": "stream",
     "text": [
      "      extract_mpl2nc: 000000000000000000000000\n"
     ]
    }
   ],
   "source": [
    "# Third step: extract the .mpl files to .nc files\n",
    "extract_mpl2nc(target)"
   ]
  },
  {
   "cell_type": "code",
   "execution_count": 11,
   "metadata": {},
   "outputs": [
    {
     "name": "stdout",
     "output_type": "stream",
     "text": [
      "get_mpl_from_archive(dir_target='/home/users/eeasm/_scripts/ICESat2/src/mpl', dir_mpl='/gws/nopw/j04/ncas_radar_vol2/data/ICECAPSarchive/mpl/raw', date_range=[datetime.datetime(2021, 2, 11, 0, 0), datetime.datetime(2021, 2, 11, 23, 59)], filenames_list=None, verbose=False)\n",
      "         move_mplraw: 333333222222222222223333\n",
      "  extract_from_mplgz: 000111000011111111100000\n",
      "      extract_mpl2nc: 111000000000111000000000\n"
     ]
    }
   ],
   "source": [
    "get_mpl_from_archive(target, date_range=[start,end])"
   ]
  }
 ],
 "metadata": {
  "kernelspec": {
   "display_name": "icesat_summit",
   "language": "python",
   "name": "python3"
  },
  "language_info": {
   "codemirror_mode": {
    "name": "ipython",
    "version": 3
   },
   "file_extension": ".py",
   "mimetype": "text/x-python",
   "name": "python",
   "nbconvert_exporter": "python",
   "pygments_lexer": "ipython3",
   "version": "3.10.8"
  },
  "orig_nbformat": 4,
  "vscode": {
   "interpreter": {
    "hash": "a4fd99504b05f85152f677e0626c907b738477dfd88f16a79b482f921eb6f6b2"
   }
  }
 },
 "nbformat": 4,
 "nbformat_minor": 2
}
