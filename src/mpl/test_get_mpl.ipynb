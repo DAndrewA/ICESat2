{
 "cells": [
  {
   "attachments": {},
   "cell_type": "markdown",
   "metadata": {},
   "source": [
    "# Test get mpl.\n",
    "\n",
    "This notebook will concern itself with going through the whole preocess to copy, extract and convert the mpl files for a given day to a target location"
   ]
  },
  {
   "cell_type": "code",
   "execution_count": 1,
   "metadata": {},
   "outputs": [],
   "source": [
    "# initial imports\n",
    "import xarray as xr\n",
    "import numpy as np\n",
    "import datetime as dt\n",
    "\n",
    "from move_mplraw import move_mplraw\n",
    "from extract_from_mplgz import extract_from_mplgz\n",
    "from extract_mpl2nc import extract_mpl2nc"
   ]
  },
  {
   "cell_type": "code",
   "execution_count": 2,
   "metadata": {},
   "outputs": [],
   "source": [
    "# setup for where the files will go and which timeframe to take\n",
    "start = dt.datetime(2021,2,11,0,0)\n",
    "end = dt.datetime(2021,2,11,23,59)\n",
    "\n",
    "target = '/home/users/eeasm/_scripts/ICESat2/src/mpl'"
   ]
  },
  {
   "cell_type": "code",
   "execution_count": 6,
   "metadata": {},
   "outputs": [
    {
     "name": "stdout",
     "output_type": "stream",
     "text": [
      "202102110000.mpl.gz | exists_archive=True | exists_destination=True\n",
      "202102110100.mpl.gz | exists_archive=True | exists_destination=True\n",
      "202102110200.mpl.gz | exists_archive=True | exists_destination=True\n",
      "202102110300.mpl.gz | exists_archive=True | exists_destination=True\n",
      "202102110400.mpl.gz | exists_archive=True | exists_destination=True\n",
      "202102110500.mpl.gz | exists_archive=True | exists_destination=True\n",
      "202102110600.mpl.gz | exists_archive=True | exists_destination=True\n",
      "202102110700.mpl.gz | exists_archive=True | exists_destination=True\n",
      "202102110800.mpl.gz | exists_archive=True | exists_destination=True\n",
      "202102110900.mpl.gz | exists_archive=True | exists_destination=True\n",
      "202102111000.mpl.gz | exists_archive=True | exists_destination=True\n",
      "202102111100.mpl.gz | exists_archive=True | exists_destination=True\n",
      "202102111200.mpl.gz | exists_archive=True | exists_destination=True\n",
      "202102111300.mpl.gz | exists_archive=True | exists_destination=True\n",
      "202102111400.mpl.gz | exists_archive=True | exists_destination=True\n",
      "202102111500.mpl.gz | exists_archive=True | exists_destination=True\n",
      "202102111600.mpl.gz | exists_archive=True | exists_destination=True\n",
      "202102111700.mpl.gz | exists_archive=True | exists_destination=True\n",
      "202102111800.mpl.gz | exists_archive=True | exists_destination=True\n",
      "202102111900.mpl.gz | exists_archive=True | exists_destination=True\n",
      "202102112000.mpl.gz | exists_archive=True | exists_destination=True\n",
      "202102112100.mpl.gz | exists_archive=True | exists_destination=True\n",
      "202102112200.mpl.gz | exists_archive=True | exists_destination=True\n",
      "202102112300.mpl.gz | exists_archive=True | exists_destination=True\n",
      "move_mplraw: complete\n"
     ]
    }
   ],
   "source": [
    "# First step: move the raw .mpl.gz files\n",
    "move_mplraw(target, date_range=[start, end])"
   ]
  },
  {
   "cell_type": "code",
   "execution_count": 7,
   "metadata": {},
   "outputs": [
    {
     "name": "stdout",
     "output_type": "stream",
     "text": [
      "202102110000.mpl.gz : already extracted\n",
      "202102110100.mpl.gz : already extracted\n",
      "202102110200.mpl.gz : already extracted\n",
      "202102110300.mpl.gz : already extracted\n",
      "202102110400.mpl.gz : already extracted\n",
      "202102110500.mpl.gz : already extracted\n",
      "202102110600.mpl.gz : already extracted\n",
      "202102110700.mpl.gz : already extracted\n",
      "202102110800.mpl.gz : already extracted\n",
      "202102110900.mpl.gz : already extracted\n",
      "202102111000.mpl.gz : already extracted\n",
      "202102111100.mpl.gz : already extracted\n",
      "202102111200.mpl.gz : already extracted\n",
      "202102111300.mpl.gz : already extracted\n",
      "202102111400.mpl.gz : already extracted\n",
      "202102111500.mpl.gz : already extracted\n",
      "202102111600.mpl.gz : already extracted\n",
      "202102111700.mpl.gz : already extracted\n",
      "202102111800.mpl.gz : already extracted\n",
      "202102111900.mpl.gz : already extracted\n",
      "202102112000.mpl.gz : already extracted\n",
      "202102112100.mpl.gz : already extracted\n",
      "202102112200.mpl.gz : already extracted\n",
      "202102112300.mpl.gz : already extracted\n"
     ]
    }
   ],
   "source": [
    "# Second step: extract the .mpl.gz files to .mpl files\n",
    "extract_from_mplgz(target)"
   ]
  },
  {
   "cell_type": "code",
   "execution_count": 8,
   "metadata": {},
   "outputs": [
    {
     "name": "stdout",
     "output_type": "stream",
     "text": [
      "202102110000.mpl : already converted\n",
      "202102110100.mpl : already converted\n",
      "202102110200.mpl : already converted\n",
      "202102110300.mpl : already converted\n",
      "202102110400.mpl : already converted\n",
      "202102110500.mpl : already converted\n",
      "202102110600.mpl : already converted\n",
      "202102110700.mpl : already converted\n",
      "202102110800.mpl : already converted\n",
      "202102110900.mpl : already converted\n",
      "202102111000.mpl : already converted\n",
      "202102111100.mpl : already converted\n",
      "202102111200.mpl : already converted\n",
      "202102111300.mpl : already converted\n",
      "202102111400.mpl : already converted\n",
      "202102111500.mpl : already converted\n",
      "202102111600.mpl : already converted\n",
      "202102111700.mpl : already converted\n",
      "202102111800.mpl : already converted\n",
      "202102111900.mpl : already converted\n",
      "202102112000.mpl : already converted\n",
      "202102112100.mpl : already converted\n",
      "202102112200.mpl : already converted\n",
      "202102112300.mpl : already converted\n"
     ]
    }
   ],
   "source": [
    "# Third step: extract the .mpl files to .nc files\n",
    "extract_mpl2nc(target)"
   ]
  }
 ],
 "metadata": {
  "kernelspec": {
   "display_name": "icesat_summit",
   "language": "python",
   "name": "python3"
  },
  "language_info": {
   "codemirror_mode": {
    "name": "ipython",
    "version": 3
   },
   "file_extension": ".py",
   "mimetype": "text/x-python",
   "name": "python",
   "nbconvert_exporter": "python",
   "pygments_lexer": "ipython3",
   "version": "3.10.8"
  },
  "orig_nbformat": 4,
  "vscode": {
   "interpreter": {
    "hash": "a4fd99504b05f85152f677e0626c907b738477dfd88f16a79b482f921eb6f6b2"
   }
  }
 },
 "nbformat": 4,
 "nbformat_minor": 2
}
